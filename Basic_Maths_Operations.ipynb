{
 "cells": [
  {
   "cell_type": "markdown",
   "id": "a016cf6c-1397-45f9-b56b-299e060701e1",
   "metadata": {},
   "source": [
    "# Basic Arithmetic Operations in Python\n",
    "> By\n",
    "### Tony Nwuzor"
   ]
  },
  {
   "cell_type": "markdown",
   "id": "038dd49e-22e3-40e2-839a-f406c891038c",
   "metadata": {},
   "source": [
    "### Assigning values to variables"
   ]
  },
  {
   "cell_type": "code",
   "execution_count": 80,
   "id": "c75905b6-c11e-4dc2-9a36-6e77767dcd70",
   "metadata": {},
   "outputs": [],
   "source": [
    "a = 3"
   ]
  },
  {
   "cell_type": "code",
   "execution_count": 81,
   "id": "46a808dc-cf69-41e3-901d-b5ab203eb9ac",
   "metadata": {},
   "outputs": [],
   "source": [
    "b = 5"
   ]
  },
  {
   "cell_type": "markdown",
   "id": "0cc43309-33af-47d0-80e6-cc5166cafc2e",
   "metadata": {},
   "source": [
    "### Addition"
   ]
  },
  {
   "cell_type": "code",
   "execution_count": 82,
   "id": "c4875a14-e2db-4ea6-a44d-b191daef4aed",
   "metadata": {},
   "outputs": [],
   "source": [
    "c = a + b"
   ]
  },
  {
   "cell_type": "code",
   "execution_count": 83,
   "id": "da626dde-b0e1-4106-839a-81b78ac860ec",
   "metadata": {},
   "outputs": [
    {
     "data": {
      "text/plain": [
       "8"
      ]
     },
     "execution_count": 83,
     "metadata": {},
     "output_type": "execute_result"
    }
   ],
   "source": [
    "c"
   ]
  },
  {
   "cell_type": "markdown",
   "id": "2bf09347-c3f3-44ac-a659-2e4d4979b3d7",
   "metadata": {},
   "source": [
    "### Subtraction"
   ]
  },
  {
   "cell_type": "code",
   "execution_count": 84,
   "id": "58a43de4-5400-4ec9-b306-bc06d568ce79",
   "metadata": {},
   "outputs": [],
   "source": [
    "s = b - a"
   ]
  },
  {
   "cell_type": "code",
   "execution_count": 85,
   "id": "6bf0260c-072d-45ef-8361-5e34b11b4637",
   "metadata": {},
   "outputs": [
    {
     "data": {
      "text/plain": [
       "2"
      ]
     },
     "execution_count": 85,
     "metadata": {},
     "output_type": "execute_result"
    }
   ],
   "source": [
    "s"
   ]
  },
  {
   "cell_type": "markdown",
   "id": "ebdf3de8-ede7-423f-ae29-ebdb34ae588f",
   "metadata": {},
   "source": [
    "### Multiplication"
   ]
  },
  {
   "cell_type": "code",
   "execution_count": 86,
   "id": "297222f4-d677-4a50-90d5-21c92033a362",
   "metadata": {},
   "outputs": [],
   "source": [
    "m = a * b"
   ]
  },
  {
   "cell_type": "code",
   "execution_count": 87,
   "id": "be6508cf-665d-42e6-9590-a58fd8d4ab7e",
   "metadata": {},
   "outputs": [
    {
     "data": {
      "text/plain": [
       "15"
      ]
     },
     "execution_count": 87,
     "metadata": {},
     "output_type": "execute_result"
    }
   ],
   "source": [
    "m"
   ]
  },
  {
   "cell_type": "markdown",
   "id": "c62e21b4-f0b3-43d4-8aa3-cd93732c7466",
   "metadata": {},
   "source": [
    "### Division"
   ]
  },
  {
   "cell_type": "code",
   "execution_count": 88,
   "id": "16dcf5db-bc4d-4cdb-8370-07d0adfb174a",
   "metadata": {},
   "outputs": [],
   "source": [
    "d = b / a"
   ]
  },
  {
   "cell_type": "code",
   "execution_count": 89,
   "id": "54d707f3-4b1b-467a-9d6e-deb0b2205535",
   "metadata": {},
   "outputs": [
    {
     "data": {
      "text/plain": [
       "1.6666666666666667"
      ]
     },
     "execution_count": 89,
     "metadata": {},
     "output_type": "execute_result"
    }
   ],
   "source": [
    "d"
   ]
  },
  {
   "cell_type": "code",
   "execution_count": 90,
   "id": "e15bb568-fdbb-46db-90fb-87f773323f35",
   "metadata": {},
   "outputs": [],
   "source": [
    "# To get only the whole number part\n",
    "d = int(d)"
   ]
  },
  {
   "cell_type": "code",
   "execution_count": 91,
   "id": "e7505791-313f-46bd-87a2-df8703a5521d",
   "metadata": {},
   "outputs": [
    {
     "data": {
      "text/plain": [
       "1"
      ]
     },
     "execution_count": 91,
     "metadata": {},
     "output_type": "execute_result"
    }
   ],
   "source": [
    "d"
   ]
  },
  {
   "cell_type": "code",
   "execution_count": 92,
   "id": "3ab7f218-20e8-4d76-94b9-94a9bd2041c8",
   "metadata": {},
   "outputs": [],
   "source": [
    "# To get just the decimal part\n",
    "d = b % a"
   ]
  },
  {
   "cell_type": "code",
   "execution_count": 93,
   "id": "6d306a70-0687-4bde-b858-67542ee773da",
   "metadata": {},
   "outputs": [
    {
     "data": {
      "text/plain": [
       "2"
      ]
     },
     "execution_count": 93,
     "metadata": {},
     "output_type": "execute_result"
    }
   ],
   "source": [
    "d"
   ]
  }
 ],
 "metadata": {
  "kernelspec": {
   "display_name": "Python 3 (ipykernel)",
   "language": "python",
   "name": "python3"
  },
  "language_info": {
   "codemirror_mode": {
    "name": "ipython",
    "version": 3
   },
   "file_extension": ".py",
   "mimetype": "text/x-python",
   "name": "python",
   "nbconvert_exporter": "python",
   "pygments_lexer": "ipython3",
   "version": "3.12.7"
  }
 },
 "nbformat": 4,
 "nbformat_minor": 5
}
